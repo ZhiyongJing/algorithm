{
 "cells": [
  {
   "cell_type": "code",
   "execution_count": 9,
   "metadata": {},
   "outputs": [
    {
     "name": "stdout",
     "output_type": "stream",
     "text": [
      "1177\n"
     ]
    }
   ],
   "source": [
    "#1.  give an integer，find smallest number from all odd number>\n",
    "def find_smallest_odd(num): \n",
    "    digits = list(str(num))\n",
    "    odd_numbers = [ i for i in digits if int(i) % 2 != 0 ]\n",
    "    odd_numbers.sort(reverse=False)\n",
    "    return int(\"\".join(odd_numbers))\n",
    "\n",
    "print(find_smallest_odd(1717))"
   ]
  },
  {
   "cell_type": "code",
   "execution_count": 24,
   "metadata": {},
   "outputs": [
    {
     "name": "stdout",
     "output_type": "stream",
     "text": [
      "{'theme2': 2, 'theme1': 1, 'theme5': 1, 'theme4': 1}\n",
      "theme2\n"
     ]
    }
   ],
   "source": [
    "# 給一個dictionary，｛bookname1：［theme 1， theme 2，theme3］，bookname2:［‍‍‍‌‍‍‌‍‍‍‍‌‍‌‌‌‍‍‌‍theme 4， theme2，theme5］。\n",
    "# return出現次數最多的theme，也就是theme2。变形题，要求duplicate location 不算，loop要用set 去重\n",
    "d = dict()\n",
    "d[\"bookname1\"] = [\"theme1\", \"theme2\", \"theme1\"]\n",
    "d[\"bookname2\"] = [\"theme2\", \"theme4\", \"theme5\"]\n",
    "\n",
    "count = 0\n",
    "theme_max = \"\"\n",
    "theme_count = dict()\n",
    "for key in d.keys():\n",
    "    d[key] = set(d[key])\n",
    "    for theme in d[key]:\n",
    "        theme_count[theme] = theme_count.get(theme, 0) + 1\n",
    "        if((theme_count.get(theme)) > count):\n",
    "            count = theme_count[theme]\n",
    "            theme_max = theme\n",
    "\n",
    "print(theme_count)\n",
    "print(theme_max)\n"
   ]
  },
  {
   "cell_type": "code",
   "execution_count": null,
   "metadata": {},
   "outputs": [],
   "source": [
    "def max_classes_in_two_consecutive_years(courses):\n",
    "    \"\"\"\n",
    "    courses: list of dict，每个dict包含：\n",
    "        - 'id': 课程名称\n",
    "        - 'class_per_year': 每年开课次数\n",
    "        - 'start': 该课程开设的起始年份（包含）\n",
    "        - 'end': 该课程开设的结束年份（包含）\n",
    "    函数的目标是找出所有课程在连续两年内所开的课时数（类数）的最大值。\n",
    "    \"\"\"\n",
    "    \n",
    "    # 1. 收集所有课程覆盖的年份（用一个 set 来存储，保证不会重复）\n",
    "    all_years = set()\n",
    "    for course in courses:\n",
    "        for y in range(course['start'], course['end'] + 1):\n",
    "            all_years.add(y)\n",
    "    \n",
    "    # 2. 建立一个字典：year -> 当年所有课程之和的课时数\n",
    "    year_to_classes = {}\n",
    "    for y in all_years:\n",
    "        year_to_classes[y] = 0\n",
    "    \n",
    "    # 3. 逐个课程累加每年课时数\n",
    "    for course in courses:\n",
    "        cpy = course['class_per_year']\n",
    "        for y in range(course['start'], course['end'] + 1):\n",
    "            year_to_classes[y] += cpy\n",
    "    \n",
    "    # 4. 对所有年份进行排序，以便后续遍历相邻年份\n",
    "    sorted_years = sorted(year_to_classes.keys())\n",
    "    \n",
    "    # 5. 计算相邻年份的总和，并找出最大值\n",
    "    max_two_year_sum = 0\n",
    "    for i in range(len(sorted_years) - 1):\n",
    "        y1 = sorted_years[i]\n",
    "        y2 = sorted_years[i + 1]\n",
    "        two_year_sum = year_to_classes[y1] + year_to_classes[y2]\n",
    "        if two_year_sum > max_two_year_sum:\n",
    "            max_two_year_sum = two_year_sum\n",
    "    \n",
    "    return max_two_year_sum\n",
    "\n",
    "if __name__ == \"__main__\":\n",
    "    # 测试数据\n",
    "    courses_data = [\n",
    "        {\"id\": \"chemistry\", \"class_per_year\": 4, \"start\": 2010, \"end\": 2014},\n",
    "        {\"id\": \"math\",      \"class_per_year\": 2, \"start\": 2008, \"end\": 2012}\n",
    "    ]\n",
    "    \n",
    "    result = max_classes_in_two_consecutive_years(courses_data)\n",
    "    print(\"连续两年内最大总课时数为:\", result)\n"
   ]
  },
  {
   "cell_type": "code",
   "execution_count": 3,
   "metadata": {},
   "outputs": [
    {
     "name": "stdout",
     "output_type": "stream",
     "text": [
      "50\n"
     ]
    }
   ],
   "source": [
    "class Meeting:\n",
    "    def __init__(self, audience: int, starttime: int, endtime: int):\n",
    "        self.audience = audience\n",
    "        self.starttime = starttime\n",
    "        self.endtime = endtime\n",
    "\n",
    "def max_audience_in_meetings(meetings):\n",
    "    \"\"\"\n",
    "    输入: meetings 是 Meeting 对象的列表\n",
    "    输出: 任意某一时刻同时进行的会议的观众人数之和的最大值\n",
    "    \"\"\"\n",
    "\n",
    "    events = []  # 将每个会议拆解成开始/结束事件\n",
    "\n",
    "    for m in meetings:\n",
    "        # 开始事件：在 m.starttime 增加 audience\n",
    "        events.append((m.starttime, m.audience))\n",
    "        # 结束事件：在 m.endtime 减少 audience\n",
    "        events.append((m.endtime, -m.audience))\n",
    "\n",
    "    # 自定义排序规则:\n",
    "    #   1. 按时间升序\n",
    "    #   2. 如果时间相同，让“结束事件”（负数）先于“开始事件”（正数），避免把结束和开始算重叠\n",
    "    events.sort(key=lambda e: (e[0], e[1] > 0))\n",
    "\n",
    "    current_audience = 0\n",
    "    max_audience = 0\n",
    "\n",
    "    # 扫描事件列表\n",
    "    for time, delta in events:\n",
    "        # 根据 delta 的正负，累加/减去观众数\n",
    "        current_audience += delta\n",
    "        # 更新全局最大值\n",
    "        max_audience = max(max_audience, current_audience)\n",
    "\n",
    "    return max_audience\n",
    "\n",
    "if __name__ == \"__main__\":\n",
    "    meetings = [\n",
    "        Meeting(audience=10, starttime=1, endtime=4),\n",
    "        Meeting(audience=30, starttime=3, endtime=6),\n",
    "        Meeting(audience=20, starttime=5, endtime=7),\n",
    "    ]\n",
    "    print(max_audience_in_meetings(meetings))\n",
    "    # 解释:\n",
    "    # 时间区间 3 ~ 4 这段，Meeting1 (1-4) 和 Meeting2 (3-6) 同时进行\n",
    "    # Meeting1 观众10 + Meeting2 观众30 = 40，是某一时刻叠加最重的一段\n",
    "    # 执行后应得到最大值 50\n"
   ]
  },
  {
   "cell_type": "code",
   "execution_count": 30,
   "metadata": {},
   "outputs": [
    {
     "name": "stdout",
     "output_type": "stream",
     "text": [
      "4\n"
     ]
    }
   ],
   "source": [
    "# Given budget and list of book prices, return the maximum numbers of books that you can buy\n",
    "# 要根据预算和书籍价格列表，找到可以最多购买的书籍数量，可以使用贪心算法来解决问题。\n",
    "\n",
    "# 思路\n",
    "# 排序书籍价格：\n",
    "# 将书籍价格列表排序，使得最便宜的书籍排在前面，这样可以尽量多地购买价格低的书籍。\n",
    "# 贪心算法：\n",
    "# 从最便宜的书籍开始，逐步购买直到预算用完。\n",
    "# 时间复杂度\n",
    "# 排序的时间复杂度为 O(n \\log n)。\n",
    "# 贪心算法遍历书籍列表的时间复杂度为 O(n)。\n",
    "def max_books(budget, book_prices):\n",
    "    book_prices.sort()\n",
    "    total_books = 0\n",
    "    total_cost = 0\n",
    "\n",
    "    for price in book_prices:\n",
    "        if total_cost + price <= budget:\n",
    "            total_books += 1\n",
    "            total_cost += price\n",
    "        else:\n",
    "            break\n",
    "\n",
    "    return total_books\n",
    "budget = 50\n",
    "\n",
    "book_prices = [12, 15, 10, 20, 5, 18]\n",
    "print(max_books(budget, book_prices))  # 输出: 4"
   ]
  },
  {
   "cell_type": "code",
   "execution_count": 32,
   "metadata": {},
   "outputs": [
    {
     "data": {
      "text/plain": [
       "2.0"
      ]
     },
     "execution_count": 32,
     "metadata": {},
     "output_type": "execute_result"
    }
   ],
   "source": [
    "# list mean\n",
    "def list_mean(l):\n",
    "    if list is None or len(l) == 0:\n",
    "        return 0\n",
    "    total = 0\n",
    "    for i in l:\n",
    "        \n",
    "        total = total + i\n",
    "    return total/i\n",
    "list_mean([1,2, 3])"
   ]
  },
  {
   "cell_type": "code",
   "execution_count": 1,
   "metadata": {},
   "outputs": [
    {
     "name": "stdout",
     "output_type": "stream",
     "text": [
      "['greed tree 2nd edition', 'python 2nd edition']\n"
     ]
    }
   ],
   "source": [
    "# 给一个list, 里面都是书名, 找出所有书的衍生书.['python','python 2nd edition', 'greed tree', 'greed tree 2nd edition'] -> ['python 2nd edition', 'greed tree 2nd edition']\n",
    "# 思路: 排序 + 跑一遍. 在跑的时候实时记录一下parent的书名, 如果当前书名是parent的prefix, 就是我们要的. 如果不是prefix, 就更新parent\n",
    "def find_books(books):\n",
    "    books.sort()\n",
    "\n",
    "    result = []\n",
    "    parent = \"\"\n",
    "\n",
    "    for book in books:\n",
    "        if book.startswith(parent) and parent != \"\":\n",
    "            result.append(book)\n",
    "        else:\n",
    "            parent = book\n",
    "\n",
    "    return result\n",
    "\n",
    "books = ['python', 'python 2nd edition', 'greed tree', 'greed tree 2nd edition']\n",
    "print(find_books(books))  # 输出: ['python 2nd edition', 'greed tree 2nd edition']\n"
   ]
  },
  {
   "cell_type": "code",
   "execution_count": 4,
   "metadata": {},
   "outputs": [
    {
     "name": "stdout",
     "output_type": "stream",
     "text": [
      "[(10, 100), (15, 100), (8, 90), (5, 80), (12, 80), (20, 70)]\n",
      "(8, 90)\n"
     ]
    }
   ],
   "source": [
    "# 给一个列表和n, 列表里面每一项是tuple, tuple[0]是书的价格, tuple[1]是销量. 找出销量第n个的书. 如果销量重复就返回最便宜的书.\n",
    "# 思路: 自定义排序, 然后放到字典里 {rank:[books]}.  返回dict[n][0].\n",
    "# 本来是想排序完然后返回list[n], 但是销量有重复.\n",
    "\n",
    "def find_nth_best_book(books, n):\n",
    "    books.sort(key=lambda x:(-x[1], x[0]))\n",
    "    print(books)\n",
    "\n",
    "    rank_dict = {}\n",
    "    current_rank = 1\n",
    "    for i, book in enumerate(books):\n",
    "        if(i > 0 and book[1] != books[i -1][1]):\n",
    "            current_rank += 1\n",
    "        if(current_rank not in rank_dict.keys()):\n",
    "            rank_dict[current_rank] = []\n",
    "\n",
    "        rank_dict[current_rank].append(book)\n",
    "\n",
    "    return rank_dict.get(n, [None])[0]\n",
    "\n",
    "books = [(10, 100), (15, 100), (8, 90), (12, 80), (5, 80), (20, 70)]\n",
    "n = 2\n",
    "print(find_nth_best_book(books, n))  # 输出: (8, 90)\n"
   ]
  },
  {
   "cell_type": "code",
   "execution_count": 1,
   "metadata": {},
   "outputs": [
    {
     "name": "stdout",
     "output_type": "stream",
     "text": [
      "True\n",
      "False\n"
     ]
    }
   ],
   "source": [
    "# 两个list， 一个是书的厚度， 一个是书架的厚度， 每本书只能放一个书架， 判断是否所有的书都可以放到书架上. 给定一个list shelves; [2, 4, 3, 6], value 表示对应层数的shelf 的width，\n",
    "# 然后给定一个list of books: [3, 1，2], value对应的是书的厚度， 求是否可以把所有的书都放到shelves上\n",
    "# 思路\n",
    "# 排序：\n",
    "# 将书和书架分别按厚度升序排序。\n",
    "# 这样可以确保厚度小的书优先分配到厚度最小的书架上，避免浪费空间。\n",
    "# 双指针遍历：\n",
    "# 一个指针遍历书的列表，另一个指针遍历书架的列表。\n",
    "# 如果当前书的厚度小于等于当前书架的厚度，则将书放到书架上，并移动两个指针。\n",
    "# 如果书的厚度大于当前书架的厚度，只移动书架指针。\n",
    "def can_place_books(shelves, books):\n",
    "    # 将书和书架分别按升序排序\n",
    "    shelves.sort()\n",
    "    books.sort()\n",
    "\n",
    "    i, j = 0, 0  # i 指向书的索引, j 指向书架的索引\n",
    "\n",
    "    while i < len(books) and j < len(shelves):\n",
    "        if books[i] <= shelves[j]:  # 当前书可以放到当前书架\n",
    "            i += 1  # 放置成功，移动到下一本书\n",
    "        j += 1  # 无论是否放置成功，都移动到下一个书架\n",
    "\n",
    "    # 如果所有书都放置成功，则 i == len(books)\n",
    "    return i == len(books)\n",
    "\n",
    "# 测试用例\n",
    "if __name__ == \"__main__\":\n",
    "    shelves = [2, 4, 3, 6]\n",
    "    books = [3, 1, 2]\n",
    "    print(can_place_books(shelves, books))  # 输出: True\n",
    "\n",
    "    shelves = [1, 2]\n",
    "    books = [3, 2, 1]\n",
    "    print(can_place_books(shelves, books))  # 输出: False\n"
   ]
  },
  {
   "cell_type": "code",
   "execution_count": 12,
   "metadata": {},
   "outputs": [
    {
     "name": "stdout",
     "output_type": "stream",
     "text": [
      "[5, 6]\n"
     ]
    }
   ],
   "source": [
    "# 给定一个dictionary: {1: [2,3, 4], 2: [4, 5]....}, 每一对key-value pair表示某个人给其他人发了friend invite, 比如 user 1 给 user 2，3， 4发了invite，\n",
    "# 问题： find the users who are N edges away from the customers who didn't recieve any invite. BFS\n",
    "from collections import defaultdict, deque\n",
    "from collections import defaultdict, deque\n",
    "\n",
    "def find_users_n_edges_away(invites, N):\n",
    "    # 记录所有收到邀请的用户\n",
    "    invited = set()\n",
    "    for recipients in invites.values():\n",
    "        invited.update(recipients)\n",
    "    \n",
    "    # 找到未收到任何邀请的用户\n",
    "    no_invites = {user for user in invited if user not in invites}\n",
    "    \n",
    "    # 构建逆向图（从被邀请者指向邀请者）\n",
    "    reverse_graph = defaultdict(list)\n",
    "    for inviter, recipients in invites.items():\n",
    "        for recipient in recipients:\n",
    "            reverse_graph[recipient].append(inviter)\n",
    "    \n",
    "    # 广度优先搜索，找到距离为N的用户\n",
    "    queue = deque([(user, 0) for user in no_invites])\n",
    "    visited = set(no_invites)\n",
    "    result = []\n",
    "    \n",
    "    while queue:\n",
    "        current_user, depth = queue.popleft()\n",
    "        \n",
    "        if depth == N:\n",
    "            result.append(current_user)\n",
    "        elif depth < N:\n",
    "            for neighbor in reverse_graph[current_user]:\n",
    "                if neighbor not in visited:\n",
    "                    visited.add(neighbor)\n",
    "                    queue.append((neighbor, depth + 1))\n",
    "    \n",
    "    return result\n",
    "\n",
    "# 测试用例\n",
    "\n",
    "invites = {1: [2, 3, 4], 2: [4, 5], 3: [6], 6: [7]}\n",
    "N = 2\n",
    "print(find_users_n_edges_away(invites, N))"
   ]
  },
  {
   "cell_type": "code",
   "execution_count": 13,
   "metadata": {},
   "outputs": [
    {
     "name": "stdout",
     "output_type": "stream",
     "text": [
      "[]\n"
     ]
    }
   ],
   "source": [
    "from collections import defaultdict, deque\n",
    "\n",
    "def find_users_n_edges_away(invites, N):\n",
    "    # 构建反向图\n",
    "    reverse_graph = defaultdict(list)\n",
    "    all_users = set(invites.keys())\n",
    "    \n",
    "    for user, invitees in invites.items():\n",
    "        for invitee in invitees:\n",
    "            reverse_graph[invitee].append(user)\n",
    "            all_users.add(invitee)\n",
    "\n",
    "    # 找出没有收到邀请的用户\n",
    "    invited_users = set(reverse_graph.keys())\n",
    "    not_invited_users = all_users - invited_users\n",
    "\n",
    "    # 使用BFS查找N边远的用户\n",
    "    result = set()\n",
    "    queue = deque([(user, 0) for user in not_invited_users])\n",
    "    visited = set(not_invited_users)\n",
    "\n",
    "    while queue:\n",
    "        current_user, depth = queue.popleft()\n",
    "        if depth == N:\n",
    "            result.add(current_user)\n",
    "            continue\n",
    "        if depth > N:\n",
    "            break\n",
    "\n",
    "        # 向外扩展 BFS\n",
    "        for neighbor in reverse_graph[current_user]:\n",
    "            if neighbor not in visited:\n",
    "                visited.add(neighbor)\n",
    "                queue.append((neighbor, depth + 1))\n",
    "\n",
    "    return list(result)\n",
    "\n",
    "# 测试用例\n",
    "\n",
    "invites = {1: [2, 3, 4], 2: [4, 5], 6: [7]}\n",
    "N = 2\n",
    "print(find_users_n_edges_away(invites, N))  # 示例输出\n"
   ]
  },
  {
   "cell_type": "code",
   "execution_count": null,
   "metadata": {},
   "outputs": [],
   "source": []
  }
 ],
 "metadata": {
  "kernelspec": {
   "display_name": "Python 3",
   "language": "python",
   "name": "python3"
  },
  "language_info": {
   "codemirror_mode": {
    "name": "ipython",
    "version": 3
   },
   "file_extension": ".py",
   "mimetype": "text/x-python",
   "name": "python",
   "nbconvert_exporter": "python",
   "pygments_lexer": "ipython3",
   "version": "3.9.6"
  }
 },
 "nbformat": 4,
 "nbformat_minor": 2
}
